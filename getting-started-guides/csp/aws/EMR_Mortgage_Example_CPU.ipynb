{
 "cells": [
  {
   "cell_type": "markdown",
   "metadata": {},
   "source": [
    "This configuration is used for core nodes similar to g4dn.12xlarge (48 vCPU and 192G RAM for each g4dn.12xlarge). You can modify the exectuor number, executor memory, cores per executor and memory overhead according to your cluster. \n"
   ]
  },
  {
   "cell_type": "code",
   "execution_count": 1,
   "metadata": {},
   "outputs": [
    {
     "data": {
      "text/html": [
       "Current session configs: <tt>{'driverMemory': '10000M', 'driverCores': 6, 'executorMemory': '16000M', 'conf': {'spark.executor.instances': 8, 'spark.executor.cores': 6, 'spark.task.cpus': 6, 'spark.yarn.maxAppAttempts': 1, 'spark.yarn.executor.memoryOverhead': '16G', 'spark.sql.files.maxPartitionBytes': 4294967296, 'spark.dynamicAllocation.enabled': False}, 'jars': ['https://repo1.maven.org/maven2/ai/rapids/cudf/0.9.2/cudf-0.9.2.jar', 'https://repo1.maven.org/maven2/ai/rapids/xgboost4j-spark_2.x/1.0.0-Beta5/xgboost4j-spark_2.x-1.0.0-Beta5.jar', 'https://repo1.maven.org/maven2/ai/rapids/xgboost4j_2.x/1.0.0-Beta5/xgboost4j_2.x-1.0.0-Beta5.jar'], 'kind': 'spark'}</tt><br>"
      ],
      "text/plain": [
       "<IPython.core.display.HTML object>"
      ]
     },
     "metadata": {},
     "output_type": "display_data"
    },
    {
     "data": {
      "text/html": [
       "No active sessions."
      ],
      "text/plain": [
       "<IPython.core.display.HTML object>"
      ]
     },
     "metadata": {},
     "output_type": "display_data"
    }
   ],
   "source": [
    "%%configure -f\n",
    "{\n",
    "    \"driverMemory\": \"10000M\",\n",
    "    \"driverCores\": 6,\n",
    "    \"executorMemory\": \"16000M\",\n",
    "    \"conf\" : {\"spark.executor.instances\":8, \"spark.executor.cores\": 6, \"spark.task.cpus\": 6, \"spark.yarn.maxAppAttempts\": 1, \"spark.yarn.executor.memoryOverhead\": \"16G\", \"spark.sql.files.maxPartitionBytes\": 4294967296, \"spark.dynamicAllocation.enabled\": false},\n",
    "    \"jars\" : [\"https://repo1.maven.org/maven2/ai/rapids/cudf/0.9.2/cudf-0.9.2.jar\",\n",
    "      \"https://repo1.maven.org/maven2/ai/rapids/xgboost4j-spark_2.x/1.0.0-Beta5/xgboost4j-spark_2.x-1.0.0-Beta5.jar\",\n",
    "      \"https://repo1.maven.org/maven2/ai/rapids/xgboost4j_2.x/1.0.0-Beta5/xgboost4j_2.x-1.0.0-Beta5.jar\"]\n",
    "}"
   ]
  },
  {
   "cell_type": "code",
   "execution_count": 2,
   "metadata": {},
   "outputs": [
    {
     "data": {
      "application/vnd.jupyter.widget-view+json": {
       "model_id": "138797cce86d45c3947973942117dbd8",
       "version_major": 2,
       "version_minor": 0
      },
      "text/plain": [
       "VBox()"
      ]
     },
     "metadata": {},
     "output_type": "display_data"
    },
    {
     "name": "stdout",
     "output_type": "stream",
     "text": [
      "Starting Spark application\n"
     ]
    },
    {
     "data": {
      "text/html": [
       "<table>\n",
       "<tr><th>ID</th><th>YARN Application ID</th><th>Kind</th><th>State</th><th>Spark UI</th><th>Driver log</th><th>Current session?</th></tr><tr><td>9</td><td>application_1595883165900_0010</td><td>spark</td><td>idle</td><td><a target=\"_blank\" href=\"http://ip-172-31-2-164.ec2.internal:20888/proxy/application_1595883165900_0010/\">Link</a></td><td><a target=\"_blank\" href=\"http://ip-172-31-5-143.ec2.internal:8042/node/containerlogs/container_1595883165900_0010_01_000001/livy\">Link</a></td><td>✔</td></tr></table>"
      ],
      "text/plain": [
       "<IPython.core.display.HTML object>"
      ]
     },
     "metadata": {},
     "output_type": "display_data"
    },
    {
     "data": {
      "application/vnd.jupyter.widget-view+json": {
       "model_id": "",
       "version_major": 2,
       "version_minor": 0
      },
      "text/plain": [
       "FloatProgress(value=0.0, bar_style='info', description='Progress:', layout=Layout(height='25px', width='50%'),…"
      ]
     },
     "metadata": {},
     "output_type": "display_data"
    },
    {
     "name": "stdout",
     "output_type": "stream",
     "text": [
      "SparkSession available as 'spark'.\n"
     ]
    },
    {
     "data": {
      "application/vnd.jupyter.widget-view+json": {
       "model_id": "",
       "version_major": 2,
       "version_minor": 0
      },
      "text/plain": [
       "FloatProgress(value=0.0, bar_style='info', description='Progress:', layout=Layout(height='25px', width='50%'),…"
      ]
     },
     "metadata": {},
     "output_type": "display_data"
    },
    {
     "name": "stdout",
     "output_type": "stream",
     "text": [
      "https://repo1.maven.org/maven2/ai/rapids/cudf/0.9.2/cudf-0.9.2.jar\n",
      "spark://ip-172-31-2-164.ec2.internal:33595/jars/livy-core_2.11-0.7.0-incubating.jar\n",
      "https://repo1.maven.org/maven2/ai/rapids/xgboost4j_2.x/1.0.0-Beta5/xgboost4j_2.x-1.0.0-Beta5.jar\n",
      "spark://ip-172-31-2-164.ec2.internal:33595/jars/commons-codec-1.9.jar\n",
      "spark://ip-172-31-2-164.ec2.internal:33595/jars/netty-all-4.1.17.Final.jar\n",
      "https://repo1.maven.org/maven2/ai/rapids/xgboost4j-spark_2.x/1.0.0-Beta5/xgboost4j-spark_2.x-1.0.0-Beta5.jar\n",
      "spark://ip-172-31-2-164.ec2.internal:33595/jars/livy-rsc-0.7.0-incubating.jar\n",
      "spark://ip-172-31-2-164.ec2.internal:33595/jars/livy-repl_2.11-0.7.0-incubating.jar\n",
      "spark://ip-172-31-2-164.ec2.internal:33595/jars/livy-api-0.7.0-incubating.jar\n"
     ]
    }
   ],
   "source": [
    "sc.listJars.foreach(println)"
   ]
  },
  {
   "cell_type": "code",
   "execution_count": 3,
   "metadata": {},
   "outputs": [
    {
     "data": {
      "text/html": [
       "Current session configs: <tt>{'driverMemory': '10000M', 'driverCores': 6, 'executorMemory': '16000M', 'conf': {'spark.executor.instances': 8, 'spark.executor.cores': 6, 'spark.task.cpus': 6, 'spark.yarn.maxAppAttempts': 1, 'spark.yarn.executor.memoryOverhead': '16G', 'spark.sql.files.maxPartitionBytes': 4294967296, 'spark.dynamicAllocation.enabled': False}, 'jars': ['https://repo1.maven.org/maven2/ai/rapids/cudf/0.9.2/cudf-0.9.2.jar', 'https://repo1.maven.org/maven2/ai/rapids/xgboost4j-spark_2.x/1.0.0-Beta5/xgboost4j-spark_2.x-1.0.0-Beta5.jar', 'https://repo1.maven.org/maven2/ai/rapids/xgboost4j_2.x/1.0.0-Beta5/xgboost4j_2.x-1.0.0-Beta5.jar'], 'kind': 'spark'}</tt><br>"
      ],
      "text/plain": [
       "<IPython.core.display.HTML object>"
      ]
     },
     "metadata": {},
     "output_type": "display_data"
    },
    {
     "data": {
      "text/html": [
       "<table>\n",
       "<tr><th>ID</th><th>YARN Application ID</th><th>Kind</th><th>State</th><th>Spark UI</th><th>Driver log</th><th>Current session?</th></tr><tr><td>9</td><td>application_1595883165900_0010</td><td>spark</td><td>idle</td><td><a target=\"_blank\" href=\"http://ip-172-31-2-164.ec2.internal:20888/proxy/application_1595883165900_0010/\">Link</a></td><td><a target=\"_blank\" href=\"http://ip-172-31-5-143.ec2.internal:8042/node/containerlogs/container_1595883165900_0010_01_000001/livy\">Link</a></td><td>✔</td></tr></table>"
      ],
      "text/plain": [
       "<IPython.core.display.HTML object>"
      ]
     },
     "metadata": {},
     "output_type": "display_data"
    }
   ],
   "source": [
    "%%info"
   ]
  },
  {
   "cell_type": "code",
   "execution_count": 4,
   "metadata": {},
   "outputs": [
    {
     "data": {
      "application/vnd.jupyter.widget-view+json": {
       "model_id": "0a29c50ef65e41b8b196dc2f8cb781de",
       "version_major": 2,
       "version_minor": 0
      },
      "text/plain": [
       "VBox()"
      ]
     },
     "metadata": {},
     "output_type": "display_data"
    },
    {
     "data": {
      "application/vnd.jupyter.widget-view+json": {
       "model_id": "",
       "version_major": 2,
       "version_minor": 0
      },
      "text/plain": [
       "FloatProgress(value=0.0, bar_style='info', description='Progress:', layout=Layout(height='25px', width='50%'),…"
      ]
     },
     "metadata": {},
     "output_type": "display_data"
    },
    {
     "name": "stdout",
     "output_type": "stream",
     "text": [
      "import org.apache.spark.sql.SparkSession\n",
      "import org.apache.spark.ml.evaluation.RegressionEvaluator\n",
      "import org.apache.spark.ml.evaluation.MulticlassClassificationEvaluator\n",
      "import org.apache.spark.sql.types.{DoubleType, IntegerType, StructField, StructType}\n",
      "import ml.dmlc.xgboost4j.scala.spark.{XGBoostClassifier, XGBoostClassificationModel}\n",
      "import org.apache.spark.ml.feature.VectorAssembler\n",
      "import org.apache.spark.sql.DataFrame\n",
      "import org.apache.spark.sql.functions._\n",
      "import org.apache.spark.sql.types.FloatType\n"
     ]
    }
   ],
   "source": [
    "// import notebook source\n",
    "import org.apache.spark.sql.SparkSession\n",
    "import org.apache.spark.ml.evaluation.RegressionEvaluator\n",
    "import org.apache.spark.ml.evaluation.MulticlassClassificationEvaluator\n",
    "import org.apache.spark.sql.types.{DoubleType, IntegerType, StructField, StructType}\n",
    "import ml.dmlc.xgboost4j.scala.spark.{XGBoostClassifier, XGBoostClassificationModel}\n",
    "//import ml.dmlc.xgboost4j.scala.spark.rapids.{GpuDataReader, GpuDataset}\n",
    "\n",
    "import org.apache.spark.ml.feature.VectorAssembler\n",
    "import org.apache.spark.sql.DataFrame\n",
    "import org.apache.spark.sql.functions._\n",
    "import org.apache.spark.sql.types.FloatType"
   ]
  },
  {
   "cell_type": "code",
   "execution_count": 5,
   "metadata": {},
   "outputs": [
    {
     "data": {
      "application/vnd.jupyter.widget-view+json": {
       "model_id": "26fd97485b9e4435a4d152615919ab8c",
       "version_major": 2,
       "version_minor": 0
      },
      "text/plain": [
       "VBox()"
      ]
     },
     "metadata": {},
     "output_type": "display_data"
    },
    {
     "data": {
      "application/vnd.jupyter.widget-view+json": {
       "model_id": "",
       "version_major": 2,
       "version_minor": 0
      },
      "text/plain": [
       "FloatProgress(value=0.0, bar_style='info', description='Progress:', layout=Layout(height='25px', width='50%'),…"
      ]
     },
     "metadata": {},
     "output_type": "display_data"
    },
    {
     "name": "stdout",
     "output_type": "stream",
     "text": [
      "DATA_PREFIX: String = s3://spark-xgboost-mortgage-dataset-east1/csv/\n",
      "trainPath: String = s3://spark-xgboost-mortgage-dataset-east1/csv/train/2000*\n",
      "evalPath: String = s3://spark-xgboost-mortgage-dataset-east1/csv/eval/2000*\n"
     ]
    }
   ],
   "source": [
    "//For AWS us-east-1 region, please use belowing S3 bucket\n",
    "//For AWS us-west-2 region, please use DATA_PREFIX = \"s3://spark-xgboost-mortgage-dataset-east1/csv/\"\n",
    "\n",
    "val DATA_PREFIX = \"s3://spark-xgboost-mortgage-dataset-east1/csv/\"\n",
    "val trainPath = DATA_PREFIX + \"train/2000*\"\n",
    "val evalPath  = DATA_PREFIX + \"eval/2000*\"\n"
   ]
  },
  {
   "cell_type": "code",
   "execution_count": 6,
   "metadata": {},
   "outputs": [
    {
     "data": {
      "application/vnd.jupyter.widget-view+json": {
       "model_id": "cf8176bb29f04a67af62392bcb8e2481",
       "version_major": 2,
       "version_minor": 0
      },
      "text/plain": [
       "VBox()"
      ]
     },
     "metadata": {},
     "output_type": "display_data"
    },
    {
     "data": {
      "application/vnd.jupyter.widget-view+json": {
       "model_id": "",
       "version_major": 2,
       "version_minor": 0
      },
      "text/plain": [
       "FloatProgress(value=0.0, bar_style='info', description='Progress:', layout=Layout(height='25px', width='50%'),…"
      ]
     },
     "metadata": {},
     "output_type": "display_data"
    },
    {
     "name": "stdout",
     "output_type": "stream",
     "text": [
      "https://repo1.maven.org/maven2/ai/rapids/cudf/0.9.2/cudf-0.9.2.jar\n",
      "spark://ip-172-31-2-164.ec2.internal:33595/jars/livy-core_2.11-0.7.0-incubating.jar\n",
      "https://repo1.maven.org/maven2/ai/rapids/xgboost4j_2.x/1.0.0-Beta5/xgboost4j_2.x-1.0.0-Beta5.jar\n",
      "spark://ip-172-31-2-164.ec2.internal:33595/jars/commons-codec-1.9.jar\n",
      "spark://ip-172-31-2-164.ec2.internal:33595/jars/netty-all-4.1.17.Final.jar\n",
      "https://repo1.maven.org/maven2/ai/rapids/xgboost4j-spark_2.x/1.0.0-Beta5/xgboost4j-spark_2.x-1.0.0-Beta5.jar\n",
      "spark://ip-172-31-2-164.ec2.internal:33595/jars/livy-rsc-0.7.0-incubating.jar\n",
      "spark://ip-172-31-2-164.ec2.internal:33595/jars/livy-repl_2.11-0.7.0-incubating.jar\n",
      "spark://ip-172-31-2-164.ec2.internal:33595/jars/livy-api-0.7.0-incubating.jar\n",
      "spark: org.apache.spark.sql.SparkSession = org.apache.spark.sql.SparkSession@11d17cf2\n",
      "dataReader: org.apache.spark.sql.DataFrameReader = org.apache.spark.sql.DataFrameReader@5f21b85f\n",
      "labelColName: String = delinquency_12\n"
     ]
    }
   ],
   "source": [
    "sc.listJars.foreach(println)\n",
    "\n",
    "val spark = SparkSession.builder.appName(\"mortgage-cpu\").getOrCreate\n",
    "\n",
    "//val dataReader = new GpuDataReader(spark)\n",
    "val dataReader = spark.read\n",
    "\n",
    "val labelColName = \"delinquency_12\"\n"
   ]
  },
  {
   "cell_type": "code",
   "execution_count": 7,
   "metadata": {},
   "outputs": [
    {
     "data": {
      "application/vnd.jupyter.widget-view+json": {
       "model_id": "9e5121e57b6742d2b641c9c288972093",
       "version_major": 2,
       "version_minor": 0
      },
      "text/plain": [
       "VBox()"
      ]
     },
     "metadata": {},
     "output_type": "display_data"
    },
    {
     "data": {
      "application/vnd.jupyter.widget-view+json": {
       "model_id": "",
       "version_major": 2,
       "version_minor": 0
      },
      "text/plain": [
       "FloatProgress(value=0.0, bar_style='info', description='Progress:', layout=Layout(height='25px', width='50%'),…"
      ]
     },
     "metadata": {},
     "output_type": "display_data"
    },
    {
     "name": "stdout",
     "output_type": "stream",
     "text": [
      "schema: org.apache.spark.sql.types.StructType = StructType(StructField(orig_channel,DoubleType,true), StructField(first_home_buyer,DoubleType,true), StructField(loan_purpose,DoubleType,true), StructField(property_type,DoubleType,true), StructField(occupancy_status,DoubleType,true), StructField(property_state,DoubleType,true), StructField(product_type,DoubleType,true), StructField(relocation_mortgage_indicator,DoubleType,true), StructField(seller_name,DoubleType,true), StructField(mod_flag,DoubleType,true), StructField(orig_interest_rate,DoubleType,true), StructField(orig_upb,IntegerType,true), StructField(orig_loan_term,IntegerType,true), StructField(orig_ltv,DoubleType,true), StructField(orig_cltv,DoubleType,true), StructField(num_borrowers,DoubleType,true), StructField(dti,DoubleType,..."
     ]
    }
   ],
   "source": [
    "val schema = StructType(List(\n",
    "    StructField(\"orig_channel\", DoubleType),\n",
    "    StructField(\"first_home_buyer\", DoubleType),\n",
    "    StructField(\"loan_purpose\", DoubleType),\n",
    "    StructField(\"property_type\", DoubleType),\n",
    "    StructField(\"occupancy_status\", DoubleType),\n",
    "    StructField(\"property_state\", DoubleType),\n",
    "    StructField(\"product_type\", DoubleType),\n",
    "    StructField(\"relocation_mortgage_indicator\", DoubleType),\n",
    "    StructField(\"seller_name\", DoubleType),\n",
    "    StructField(\"mod_flag\", DoubleType),\n",
    "    StructField(\"orig_interest_rate\", DoubleType),\n",
    "    StructField(\"orig_upb\", IntegerType),\n",
    "    StructField(\"orig_loan_term\", IntegerType),\n",
    "    StructField(\"orig_ltv\", DoubleType),\n",
    "    StructField(\"orig_cltv\", DoubleType),\n",
    "    StructField(\"num_borrowers\", DoubleType),\n",
    "    StructField(\"dti\", DoubleType),\n",
    "    StructField(\"borrower_credit_score\", DoubleType),\n",
    "    StructField(\"num_units\", IntegerType),\n",
    "    StructField(\"zip\", IntegerType),\n",
    "    StructField(\"mortgage_insurance_percent\", DoubleType),\n",
    "    StructField(\"current_loan_delinquency_status\", IntegerType),\n",
    "    StructField(\"current_actual_upb\", DoubleType),\n",
    "    StructField(\"interest_rate\", DoubleType),\n",
    "    StructField(\"loan_age\", DoubleType),\n",
    "    StructField(\"msa\", DoubleType),\n",
    "    StructField(\"non_interest_bearing_upb\", DoubleType),\n",
    "    StructField(labelColName, IntegerType)))\n",
    "\n"
   ]
  },
  {
   "cell_type": "code",
   "execution_count": 8,
   "metadata": {},
   "outputs": [
    {
     "data": {
      "application/vnd.jupyter.widget-view+json": {
       "model_id": "d814b58aaee4443f9dfd2de203999704",
       "version_major": 2,
       "version_minor": 0
      },
      "text/plain": [
       "VBox()"
      ]
     },
     "metadata": {},
     "output_type": "display_data"
    },
    {
     "data": {
      "application/vnd.jupyter.widget-view+json": {
       "model_id": "",
       "version_major": 2,
       "version_minor": 0
      },
      "text/plain": [
       "FloatProgress(value=0.0, bar_style='info', description='Progress:', layout=Layout(height='25px', width='50%'),…"
      ]
     },
     "metadata": {},
     "output_type": "display_data"
    },
    {
     "name": "stdout",
     "output_type": "stream",
     "text": [
      "commParamMap: scala.collection.immutable.Map[String,Any] = Map(min_child_weight -> 30, grow_policy -> depthwise, scale_pos_weight -> 2, num_workers -> 8, subsample -> 1, lambda -> 1, max_depth -> 8, num_round -> 100, missing -> 0.0, tree_method -> hist, eta -> 0.1, max_leaves -> 256, gamma -> 0.1, nthread -> 6)\n"
     ]
    }
   ],
   "source": [
    "// you can set max_depth to 8 and num_round to 100 to shorten the training time\n",
    "\n",
    "val commParamMap = Map(\n",
    "    \"eta\" -> 0.1,\n",
    "    \"gamma\" -> 0.1,\n",
    "    \"missing\" -> 0.0,\n",
    "    \"max_depth\" -> 8,\n",
    "    \"max_leaves\" -> 256,\n",
    "    \"grow_policy\" -> \"depthwise\",\n",
    "    \"min_child_weight\" -> 30,\n",
    "    \"lambda\" -> 1,\n",
    "    \"scale_pos_weight\" -> 2,\n",
    "    \"subsample\" -> 1,\n",
    "    \"nthread\" -> 6,\n",
    "    \"num_round\" -> 100,\n",
    "    \"num_workers\" -> 8,\n",
    "    \"tree_method\" -> \"hist\")\n"
   ]
  },
  {
   "cell_type": "code",
   "execution_count": 9,
   "metadata": {},
   "outputs": [
    {
     "data": {
      "application/vnd.jupyter.widget-view+json": {
       "model_id": "621535673f5c44808ad1e8dff64dfbdf",
       "version_major": 2,
       "version_minor": 0
      },
      "text/plain": [
       "VBox()"
      ]
     },
     "metadata": {},
     "output_type": "display_data"
    },
    {
     "data": {
      "application/vnd.jupyter.widget-view+json": {
       "model_id": "",
       "version_major": 2,
       "version_minor": 0
      },
      "text/plain": [
       "FloatProgress(value=0.0, bar_style='info', description='Progress:', layout=Layout(height='25px', width='50%'),…"
      ]
     },
     "metadata": {},
     "output_type": "display_data"
    },
    {
     "name": "stdout",
     "output_type": "stream",
     "text": [
      "trainSet: org.apache.spark.sql.DataFrame = [orig_channel: double, first_home_buyer: double ... 26 more fields]\n",
      "evalSet: org.apache.spark.sql.DataFrame = [orig_channel: double, first_home_buyer: double ... 26 more fields]\n",
      "featureNames: Seq[String] = List(orig_channel, first_home_buyer, loan_purpose, property_type, occupancy_status, property_state, product_type, relocation_mortgage_indicator, seller_name, mod_flag, orig_interest_rate, orig_upb, orig_loan_term, orig_ltv, orig_cltv, num_borrowers, dti, borrower_credit_score, num_units, zip, mortgage_insurance_percent, current_loan_delinquency_status, current_actual_upb, interest_rate, loan_age, msa, non_interest_bearing_upb)\n"
     ]
    }
   ],
   "source": [
    "\n",
    "var (trainSet, evalSet) = {\n",
    "  dataReader.option(\"header\", true).schema(schema)\n",
    "  (dataReader.csv(trainPath), dataReader.csv(evalPath))}\n",
    "\n",
    "val featureNames = schema.filter(_.name != labelColName).map(_.name)\n"
   ]
  },
  {
   "cell_type": "code",
   "execution_count": 10,
   "metadata": {},
   "outputs": [
    {
     "data": {
      "application/vnd.jupyter.widget-view+json": {
       "model_id": "b42c19cb4fa442dfab9348c79dfeae27",
       "version_major": 2,
       "version_minor": 0
      },
      "text/plain": [
       "VBox()"
      ]
     },
     "metadata": {},
     "output_type": "display_data"
    },
    {
     "data": {
      "application/vnd.jupyter.widget-view+json": {
       "model_id": "",
       "version_major": 2,
       "version_minor": 0
      },
      "text/plain": [
       "FloatProgress(value=0.0, bar_style='info', description='Progress:', layout=Layout(height='25px', width='50%'),…"
      ]
     },
     "metadata": {},
     "output_type": "display_data"
    },
    {
     "name": "stdout",
     "output_type": "stream",
     "text": [
      "defined object Vectorize\n"
     ]
    }
   ],
   "source": [
    "object Vectorize {\n",
    "  def apply(df: DataFrame, featureNames: Seq[String], labelName: String): DataFrame = {\n",
    "    val toFloat = df.schema.map(f => col(f.name).cast(FloatType))\n",
    "    new VectorAssembler()\n",
    "      .setInputCols(featureNames.toArray)\n",
    "      .setOutputCol(\"features\")\n",
    "      .transform(df.select(toFloat:_*))\n",
    "      .select(col(\"features\"), col(labelName))\n",
    "  }\n",
    "}"
   ]
  },
  {
   "cell_type": "code",
   "execution_count": 11,
   "metadata": {},
   "outputs": [
    {
     "data": {
      "application/vnd.jupyter.widget-view+json": {
       "model_id": "1547de5a9ceb48e3a0b1bdf090b88873",
       "version_major": 2,
       "version_minor": 0
      },
      "text/plain": [
       "VBox()"
      ]
     },
     "metadata": {},
     "output_type": "display_data"
    },
    {
     "data": {
      "application/vnd.jupyter.widget-view+json": {
       "model_id": "",
       "version_major": 2,
       "version_minor": 0
      },
      "text/plain": [
       "FloatProgress(value=0.0, bar_style='info', description='Progress:', layout=Layout(height='25px', width='50%'),…"
      ]
     },
     "metadata": {},
     "output_type": "display_data"
    },
    {
     "name": "stdout",
     "output_type": "stream",
     "text": [
      "trainSet: org.apache.spark.sql.DataFrame = [features: vector, delinquency_12: float]\n",
      "evalSet: org.apache.spark.sql.DataFrame = [features: vector, delinquency_12: float]\n"
     ]
    }
   ],
   "source": [
    "trainSet = Vectorize(trainSet, featureNames , labelColName)\n",
    "evalSet = Vectorize(evalSet, featureNames , labelColName)"
   ]
  },
  {
   "cell_type": "code",
   "execution_count": 12,
   "metadata": {},
   "outputs": [
    {
     "data": {
      "application/vnd.jupyter.widget-view+json": {
       "model_id": "4391494965f242799d17bf57758f3c95",
       "version_major": 2,
       "version_minor": 0
      },
      "text/plain": [
       "VBox()"
      ]
     },
     "metadata": {},
     "output_type": "display_data"
    },
    {
     "data": {
      "application/vnd.jupyter.widget-view+json": {
       "model_id": "",
       "version_major": 2,
       "version_minor": 0
      },
      "text/plain": [
       "FloatProgress(value=0.0, bar_style='info', description='Progress:', layout=Layout(height='25px', width='50%'),…"
      ]
     },
     "metadata": {},
     "output_type": "display_data"
    },
    {
     "name": "stdout",
     "output_type": "stream",
     "text": [
      "defined object Benchmark\n"
     ]
    }
   ],
   "source": [
    "object Benchmark {\n",
    "  def time[R](phase: String)(block: => R): (R, Float) = {\n",
    "    val t0 = System.currentTimeMillis\n",
    "    val result = block // call-by-name\n",
    "    val t1 = System.currentTimeMillis\n",
    "    println(\"==> Benchmark: Elapsed time for [\" + phase + \"]: \" + ((t1 - t0).toFloat / 1000) + \"s\")\n",
    "    (result, (t1 - t0).toFloat / 1000)\n",
    "  }\n",
    "}"
   ]
  },
  {
   "cell_type": "code",
   "execution_count": 13,
   "metadata": {},
   "outputs": [
    {
     "data": {
      "application/vnd.jupyter.widget-view+json": {
       "model_id": "a97b113d62664a9cb47fdfb2e7c612bb",
       "version_major": 2,
       "version_minor": 0
      },
      "text/plain": [
       "VBox()"
      ]
     },
     "metadata": {},
     "output_type": "display_data"
    },
    {
     "data": {
      "application/vnd.jupyter.widget-view+json": {
       "model_id": "",
       "version_major": 2,
       "version_minor": 0
      },
      "text/plain": [
       "FloatProgress(value=0.0, bar_style='info', description='Progress:', layout=Layout(height='25px', width='50%'),…"
      ]
     },
     "metadata": {},
     "output_type": "display_data"
    },
    {
     "name": "stdout",
     "output_type": "stream",
     "text": [
      "modelPath: String = /tmp/model\n",
      "xgbClassifier: ml.dmlc.xgboost4j.scala.spark.XGBoostClassifier = xgbc_27c6d1357b6b\n"
     ]
    }
   ],
   "source": [
    "val modelPath = \"/tmp/model\"\n",
    "val xgbClassifier = new XGBoostClassifier(commParamMap).setLabelCol(labelColName).setFeaturesCols(featureNames)\n"
   ]
  },
  {
   "cell_type": "code",
   "execution_count": 14,
   "metadata": {},
   "outputs": [
    {
     "data": {
      "application/vnd.jupyter.widget-view+json": {
       "model_id": "b452ec27681f4843827607b844a70082",
       "version_major": 2,
       "version_minor": 0
      },
      "text/plain": [
       "VBox()"
      ]
     },
     "metadata": {},
     "output_type": "display_data"
    },
    {
     "data": {
      "application/vnd.jupyter.widget-view+json": {
       "model_id": "",
       "version_major": 2,
       "version_minor": 0
      },
      "text/plain": [
       "FloatProgress(value=0.0, bar_style='info', description='Progress:', layout=Layout(height='25px', width='50%'),…"
      ]
     },
     "metadata": {},
     "output_type": "display_data"
    },
    {
     "name": "stdout",
     "output_type": "stream",
     "text": [
      "\n",
      "------ Training ------\n",
      "==> Benchmark: Elapsed time for [train]: 123.443s\n",
      "model: ml.dmlc.xgboost4j.scala.spark.XGBoostClassificationModel = xgbc_27c6d1357b6b\n"
     ]
    }
   ],
   "source": [
    "println(\"\\n------ Training ------\")\n",
    "val (model, _) = Benchmark.time(\"train\") {\n",
    "        xgbClassifier.fit(trainSet)\n",
    "}\n"
   ]
  },
  {
   "cell_type": "code",
   "execution_count": 15,
   "metadata": {},
   "outputs": [
    {
     "data": {
      "application/vnd.jupyter.widget-view+json": {
       "model_id": "6670730ea74748deaf32cd0f366cf8c3",
       "version_major": 2,
       "version_minor": 0
      },
      "text/plain": [
       "VBox()"
      ]
     },
     "metadata": {},
     "output_type": "display_data"
    },
    {
     "data": {
      "application/vnd.jupyter.widget-view+json": {
       "model_id": "",
       "version_major": 2,
       "version_minor": 0
      },
      "text/plain": [
       "FloatProgress(value=0.0, bar_style='info', description='Progress:', layout=Layout(height='25px', width='50%'),…"
      ]
     },
     "metadata": {},
     "output_type": "display_data"
    },
    {
     "name": "stdout",
     "output_type": "stream",
     "text": [
      "xgbClassificationModel: ml.dmlc.xgboost4j.scala.spark.XGBoostClassificationModel = xgbc_27c6d1357b6b\n"
     ]
    }
   ],
   "source": [
    "// Save model if modelPath exists\n",
    "model.write.overwrite().save(modelPath)\n",
    "val xgbClassificationModel = model\n"
   ]
  },
  {
   "cell_type": "code",
   "execution_count": 16,
   "metadata": {},
   "outputs": [
    {
     "data": {
      "application/vnd.jupyter.widget-view+json": {
       "model_id": "5f50023b8c2f4650b0f48d2e815f57e2",
       "version_major": 2,
       "version_minor": 0
      },
      "text/plain": [
       "VBox()"
      ]
     },
     "metadata": {},
     "output_type": "display_data"
    },
    {
     "data": {
      "application/vnd.jupyter.widget-view+json": {
       "model_id": "",
       "version_major": 2,
       "version_minor": 0
      },
      "text/plain": [
       "FloatProgress(value=0.0, bar_style='info', description='Progress:', layout=Layout(height='25px', width='50%'),…"
      ]
     },
     "metadata": {},
     "output_type": "display_data"
    },
    {
     "name": "stdout",
     "output_type": "stream",
     "text": [
      "\n",
      "------ Transforming ------\n",
      "==> Benchmark: Elapsed time for [transform]: 0.381s\n",
      "results: org.apache.spark.sql.DataFrame = [features: vector, delinquency_12: float ... 3 more fields]\n"
     ]
    }
   ],
   "source": [
    "println(\"\\n------ Transforming ------\")\n",
    "val (results, _) = Benchmark.time(\"transform\") {\n",
    "  xgbClassificationModel.transform(evalSet)\n",
    "}\n"
   ]
  },
  {
   "cell_type": "code",
   "execution_count": 17,
   "metadata": {},
   "outputs": [
    {
     "data": {
      "application/vnd.jupyter.widget-view+json": {
       "model_id": "6fb7eb30591d463eaabeacdfaa6572a5",
       "version_major": 2,
       "version_minor": 0
      },
      "text/plain": [
       "VBox()"
      ]
     },
     "metadata": {},
     "output_type": "display_data"
    },
    {
     "data": {
      "application/vnd.jupyter.widget-view+json": {
       "model_id": "",
       "version_major": 2,
       "version_minor": 0
      },
      "text/plain": [
       "FloatProgress(value=0.0, bar_style='info', description='Progress:', layout=Layout(height='25px', width='50%'),…"
      ]
     },
     "metadata": {},
     "output_type": "display_data"
    },
    {
     "name": "stdout",
     "output_type": "stream",
     "text": [
      "\n",
      "------Accuracy of Evaluation------\n",
      "evaluator: org.apache.spark.ml.evaluation.MulticlassClassificationEvaluator = mcEval_49c172a1ba9a\n",
      "accuracy: Double = 0.985849170484196\n",
      "0.985849170484196\n"
     ]
    }
   ],
   "source": [
    "println(\"\\n------Accuracy of Evaluation------\")\n",
    "val evaluator = new MulticlassClassificationEvaluator().setLabelCol(labelColName)\n",
    "val accuracy = evaluator.evaluate(results)\n",
    "println(accuracy)\n"
   ]
  },
  {
   "cell_type": "code",
   "execution_count": null,
   "metadata": {},
   "outputs": [],
   "source": []
  },
  {
   "cell_type": "code",
   "execution_count": null,
   "metadata": {},
   "outputs": [],
   "source": []
  }
 ],
 "metadata": {
  "kernelspec": {
   "display_name": "Spark",
   "language": "",
   "name": "sparkkernel"
  },
  "language_info": {
   "codemirror_mode": "text/x-scala",
   "mimetype": "text/x-scala",
   "name": "scala",
   "pygments_lexer": "scala"
  }
 },
 "nbformat": 4,
 "nbformat_minor": 4
}
